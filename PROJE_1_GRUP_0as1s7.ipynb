{
  "nbformat": 4,
  "nbformat_minor": 0,
  "metadata": {
    "colab": {
      "name": "PROJE 1- GRUP 0as1s7.ipynb",
      "provenance": [],
      "collapsed_sections": [],
      "authorship_tag": "ABX9TyMdZPlujXxvgYOdWJeOuOnj",
      "include_colab_link": true
    },
    "kernelspec": {
      "name": "python3",
      "display_name": "Python 3"
    },
    "language_info": {
      "name": "python"
    }
  },
  "cells": [
    {
      "cell_type": "markdown",
      "metadata": {
        "id": "view-in-github",
        "colab_type": "text"
      },
      "source": [
        "<a href=\"https://colab.research.google.com/github/elamim/PROJE-1_GRUP0as1a7/blob/main/PROJE_1_GRUP_0as1s7.ipynb\" target=\"_parent\"><img src=\"https://colab.research.google.com/assets/colab-badge.svg\" alt=\"Open In Colab\"/></a>"
      ]
    },
    {
      "cell_type": "markdown",
      "source": [
        "\n",
        "# ***GRUP 0as1s7***\n",
        "\n",
        "\n",
        "# **Proje 1**\n",
        "\n",
        "---\n",
        "\n",
        "\n",
        "\n",
        "\n"
      ],
      "metadata": {
        "id": "0_8RNObw_pla"
      }
    },
    {
      "cell_type": "markdown",
      "source": [
        "●\tBu projede bir öğrenci not sistemi oluşturacaktır. istenilenler:\n",
        "\n"
      ],
      "metadata": {
        "id": "8wwftV0yBRxp"
      }
    },
    {
      "cell_type": "markdown",
      "source": [
        "bir ders belirleyiniz. (Matematik,Fizik, Lineer Cebir vb.)\n",
        "\n"
      ],
      "metadata": {
        "id": "uWuTR73bAEGi"
      }
    },
    {
      "cell_type": "code",
      "source": [
        "lecture = input ('Lecture : ')\n",
        "print ('Lecture', lecture)"
      ],
      "metadata": {
        "id": "lNrs4Um2LEJz",
        "colab": {
          "base_uri": "https://localhost:8080/"
        },
        "outputId": "a1613c6d-bb84-4d1f-b543-aee27780c0da"
      },
      "execution_count": 4,
      "outputs": [
        {
          "output_type": "stream",
          "name": "stdout",
          "text": [
            "Lecture : Math\n",
            "Lecture Math\n"
          ]
        }
      ]
    },
    {
      "cell_type": "markdown",
      "source": [
        "\n",
        "Not aralığınızı oluşturunuz (100-80 ⇒ A, 79-70 ⇒ B vb.)\n"
      ],
      "metadata": {
        "id": "HKg9fulvAKmy"
      }
    },
    {
      "cell_type": "code",
      "source": [
        ""
      ],
      "metadata": {
        "id": "M8u8rkSeAW_y"
      },
      "execution_count": null,
      "outputs": []
    },
    {
      "cell_type": "markdown",
      "source": [
        "Öğrenci Bilgilerini (Ad, Soyad, Okul No, sınav puanı) girebileceğiniz ve bu bilgilerin tutulabileceği bir sistem oluşturunuz.\n"
      ],
      "metadata": {
        "id": "HdK2OQJ3AQNg"
      }
    },
    {
      "cell_type": "code",
      "source": [
        ""
      ],
      "metadata": {
        "id": "O2onoSDcAnmd"
      },
      "execution_count": null,
      "outputs": []
    },
    {
      "cell_type": "markdown",
      "source": [
        "Girilen bilgilerden yola çıkarak öğrencinin dersi geçip geçmediğini göstermesi gerekmektedir."
      ],
      "metadata": {
        "id": "NzEG8tYyApu5"
      }
    },
    {
      "cell_type": "code",
      "source": [
        ""
      ],
      "metadata": {
        "id": "fARLIYCLAwLu"
      },
      "execution_count": null,
      "outputs": []
    },
    {
      "cell_type": "markdown",
      "source": [
        "Öğrenci dersi geçti ise öğrencinin bilgilerinin tutulduğu alana “Geçti” yazısı, öğrenci dersi geçemedi ise “kaldı” yazısını göstermesi gerekmektedir."
      ],
      "metadata": {
        "id": "yoL5YX7-AzDW"
      }
    },
    {
      "cell_type": "code",
      "source": [
        ""
      ],
      "metadata": {
        "id": "jFj6MEYSA5Wd"
      },
      "execution_count": null,
      "outputs": []
    },
    {
      "cell_type": "markdown",
      "source": [
        "Notları girilen öğrencilerden dersi geçenleri ve geçmeyenleri gösteren bir Dataframe oluşturunuz. "
      ],
      "metadata": {
        "id": "0VmTUzkUA_ZM"
      }
    },
    {
      "cell_type": "code",
      "source": [
        ""
      ],
      "metadata": {
        "id": "YuG3yf6RBC3n"
      },
      "execution_count": null,
      "outputs": []
    },
    {
      "cell_type": "markdown",
      "source": [
        "Oluşturulan Dataframe’i Excel tablosuna dönüştürünüz."
      ],
      "metadata": {
        "id": "by9QmDp4BDag"
      }
    },
    {
      "cell_type": "code",
      "source": [
        ""
      ],
      "metadata": {
        "id": "da2wS9QZBH4Y"
      },
      "execution_count": null,
      "outputs": []
    }
  ]
}