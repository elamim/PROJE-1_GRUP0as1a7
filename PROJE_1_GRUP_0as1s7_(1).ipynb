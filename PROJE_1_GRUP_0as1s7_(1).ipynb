{
  "nbformat": 4,
  "nbformat_minor": 0,
  "metadata": {
    "colab": {
      "name": "PROJE 1- GRUP 0as1s7 (1).ipynb",
      "provenance": [],
      "collapsed_sections": [],
      "authorship_tag": "ABX9TyNVL9W5Rn3i+lf12XVL+9OO",
      "include_colab_link": true
    },
    "kernelspec": {
      "name": "python3",
      "display_name": "Python 3"
    },
    "language_info": {
      "name": "python"
    }
  },
  "cells": [
    {
      "cell_type": "markdown",
      "metadata": {
        "id": "view-in-github",
        "colab_type": "text"
      },
      "source": [
        "<a href=\"https://colab.research.google.com/github/elamim/PROJE-1_GRUP0as1a7/blob/main/PROJE_1_GRUP_0as1s7_(1).ipynb\" target=\"_parent\"><img src=\"https://colab.research.google.com/assets/colab-badge.svg\" alt=\"Open In Colab\"/></a>"
      ]
    },
    {
      "cell_type": "markdown",
      "source": [
        "\n",
        "# ***GRUP 0as1s7***\n",
        "\n",
        "\n",
        "# **Proje 1**\n",
        "\n",
        "---\n",
        "\n",
        "\n",
        "\n"
      ],
      "metadata": {
        "id": "0_8RNObw_pla"
      }
    },
    {
      "cell_type": "markdown",
      "source": [
        "●\tBu projede bir öğrenci not sistemi oluşturacaktır. istenilenler:\n",
        "\n"
      ],
      "metadata": {
        "id": "8wwftV0yBRxp"
      }
    },
    {
      "cell_type": "markdown",
      "source": [
        "Bir ders belirleyiniz. (Matematik,Fizik, Lineer Cebir vb.)"
      ],
      "metadata": {
        "id": "uWuTR73bAEGi"
      }
    },
    {
      "cell_type": "code",
      "source": [
        "lecture_name = \"Math\"\n",
        "print('Lecture Name:',lecture_name)"
      ],
      "metadata": {
        "id": "Y4Xrba6DAVmE",
        "outputId": "8f48a175-c51e-4409-97c4-c46292b320ef",
        "colab": {
          "base_uri": "https://localhost:8080/"
        }
      },
      "execution_count": 33,
      "outputs": [
        {
          "output_type": "stream",
          "name": "stdout",
          "text": [
            "Lecture Name: Math\n"
          ]
        }
      ]
    },
    {
      "cell_type": "markdown",
      "source": [
        "Not aralığınızı oluşturunuz (100-80 ⇒ A, 79-70 ⇒ B vb.)\n"
      ],
      "metadata": {
        "id": "HKg9fulvAKmy"
      }
    },
    {
      "cell_type": "code",
      "source": [
        "percent_value = range(0, 100)\n",
        "percent_value = int(input('Enter an Percent Value between 0-100: '))\n",
        "success_grade = str()\n",
        "\n",
        "while 0 <= percent_value <= 100:\n",
        "\n",
        "  if 90<=percent_value<=100:\n",
        "    success_grade = 'AA'\n",
        "  elif 80<=percent_value<=89:\n",
        "    success_grade = 'BA'\n",
        "  elif 70<=percent_value<=79:\n",
        "    success_grade = 'BB'\n",
        "  elif 60<=percent_value<=69:\n",
        "    success_grade = 'CB'\n",
        "  elif 50<=percent_value<=59:\n",
        "    success_grade = 'CC'\n",
        "  elif 40<=percent_value<=49:\n",
        "    success_grade = 'DC'\n",
        "  elif 30<=percent_value<=39:\n",
        "    success_grade = 'DD'\n",
        "  elif 20<=percent_value<=29:\n",
        "    success_grade = 'FD'\n",
        "  elif 0<=percent_value<=19:\n",
        "   success_grade = 'FF'\n",
        "  else:\n",
        "     success_grade = 'NA'\n",
        "\n",
        "  print('Percent Value:', percent_value) \n",
        "  print('Success Grade:',success_grade)\n",
        "  break\n",
        "\n",
        "else:\n",
        "    print(\"invalid value\")\n",
        "    print(int(input('Enter an Percent Value between 0-100: ')))\n"
      ],
      "metadata": {
        "id": "M8u8rkSeAW_y",
        "colab": {
          "base_uri": "https://localhost:8080/"
        },
        "outputId": "f1a5e11d-75f6-41ee-9d1f-50d9f355cdc9"
      },
      "execution_count": 32,
      "outputs": [
        {
          "output_type": "stream",
          "name": "stdout",
          "text": [
            "Enter an Percent Value between 0-100: 45\n",
            "Percent Value: 45\n",
            "Success Grade: DC\n"
          ]
        }
      ]
    },
    {
      "cell_type": "markdown",
      "source": [
        "Öğrenci Bilgilerini (Ad, Soyad, Okul No, sınav puanı) girebileceğiniz ve bu bilgilerin tutulabileceği bir sistem oluşturunuz.\n"
      ],
      "metadata": {
        "id": "HdK2OQJ3AQNg"
      }
    },
    {
      "cell_type": "code",
      "source": [
        ""
      ],
      "metadata": {
        "id": "O2onoSDcAnmd"
      },
      "execution_count": null,
      "outputs": []
    },
    {
      "cell_type": "markdown",
      "source": [
        "Girilen bilgilerden yola çıkarak öğrencinin dersi geçip geçmediğini göstermesi gerekmektedir."
      ],
      "metadata": {
        "id": "NzEG8tYyApu5"
      }
    },
    {
      "cell_type": "code",
      "source": [
        ""
      ],
      "metadata": {
        "id": "fARLIYCLAwLu"
      },
      "execution_count": null,
      "outputs": []
    },
    {
      "cell_type": "markdown",
      "source": [
        "Öğrenci dersi geçti ise öğrencinin bilgilerinin tutulduğu alana “Geçti” yazısı, öğrenci dersi geçemedi ise “kaldı” yazısını göstermesi gerekmektedir."
      ],
      "metadata": {
        "id": "yoL5YX7-AzDW"
      }
    },
    {
      "cell_type": "code",
      "source": [
        ""
      ],
      "metadata": {
        "id": "jFj6MEYSA5Wd"
      },
      "execution_count": null,
      "outputs": []
    },
    {
      "cell_type": "markdown",
      "source": [
        "Notları girilen öğrencilerden dersi geçenleri ve geçmeyenleri gösteren bir Dataframe oluşturunuz. "
      ],
      "metadata": {
        "id": "0VmTUzkUA_ZM"
      }
    },
    {
      "cell_type": "code",
      "source": [
        ""
      ],
      "metadata": {
        "id": "YuG3yf6RBC3n"
      },
      "execution_count": null,
      "outputs": []
    },
    {
      "cell_type": "markdown",
      "source": [
        "Oluşturulan Dataframe’i Excel tablosuna dönüştürünüz."
      ],
      "metadata": {
        "id": "by9QmDp4BDag"
      }
    },
    {
      "cell_type": "code",
      "source": [
        ""
      ],
      "metadata": {
        "id": "da2wS9QZBH4Y"
      },
      "execution_count": 8,
      "outputs": []
    }
  ]
}